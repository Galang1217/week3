{
  "nbformat": 4,
  "nbformat_minor": 0,
  "metadata": {
    "colab": {
      "provenance": []
    },
    "kernelspec": {
      "name": "python3",
      "display_name": "Python 3"
    },
    "language_info": {
      "name": "python"
    }
  },
  "cells": [
    {
      "cell_type": "markdown",
      "source": [
        "Basic Output in Python"
      ],
      "metadata": {
        "id": "SF9UeAqiEW3b"
      }
    },
    {
      "cell_type": "code",
      "source": [
        "print('python is powerful')"
      ],
      "metadata": {
        "colab": {
          "base_uri": "https://localhost:8080/"
        },
        "id": "dFU0jO2X9OFI",
        "outputId": "6e02acff-9867-486c-8a91-9cdf0c86dbc3"
      },
      "execution_count": null,
      "outputs": [
        {
          "output_type": "stream",
          "name": "stdout",
          "text": [
            "python is powerful\n"
          ]
        }
      ]
    },
    {
      "cell_type": "code",
      "source": [
        "print('Good Morning!')\n",
        "print('It is rainy today')"
      ],
      "metadata": {
        "colab": {
          "base_uri": "https://localhost:8080/"
        },
        "id": "YV1w29-D9etg",
        "outputId": "c5983803-e81f-45d2-a54b-3d861643c592"
      },
      "execution_count": null,
      "outputs": [
        {
          "output_type": "stream",
          "name": "stdout",
          "text": [
            "Good Morning!\n",
            "It is rainy today\n"
          ]
        }
      ]
    },
    {
      "cell_type": "code",
      "source": [
        "# print with end whitespace\n",
        "#print('Good Morning!', end= ' ')\n",
        "\n",
        "print('Good Morning!', end = ' ')\n",
        "\n",
        "print('It is rainy today')"
      ],
      "metadata": {
        "colab": {
          "base_uri": "https://localhost:8080/"
        },
        "id": "hMRFLBbGDvSq",
        "outputId": "a4d03994-020d-44d7-cad0-003581d8d877"
      },
      "execution_count": null,
      "outputs": [
        {
          "output_type": "stream",
          "name": "stdout",
          "text": [
            "Good Morning! It is rainy today\n"
          ]
        }
      ]
    },
    {
      "cell_type": "code",
      "source": [
        "print('New Year', 2023, 'See you soon!', sep= '. ')"
      ],
      "metadata": {
        "colab": {
          "base_uri": "https://localhost:8080/"
        },
        "id": "DrF43g7KDzsB",
        "outputId": "da03c9fc-2369-42d7-f20b-7285ecd3f5ee"
      },
      "execution_count": null,
      "outputs": [
        {
          "output_type": "stream",
          "name": "stdout",
          "text": [
            "New Year. 2023. See you soon!\n"
          ]
        }
      ]
    },
    {
      "cell_type": "code",
      "source": [
        "number = -10.6\n",
        "\n",
        "name = \"Teknologi Informasi\"\n",
        "\n",
        "# print literals\n",
        "print(5)\n",
        "\n",
        "# print variables\n",
        "print(number)\n",
        "print(name)"
      ],
      "metadata": {
        "colab": {
          "base_uri": "https://localhost:8080/"
        },
        "id": "Sjv-8nxiEP5y",
        "outputId": "52f8a360-4287-4761-b99e-d38d0b87a370"
      },
      "execution_count": null,
      "outputs": [
        {
          "output_type": "stream",
          "name": "stdout",
          "text": [
            "5\n",
            "-10.6\n",
            "Teknologi Informasi\n"
          ]
        }
      ]
    },
    {
      "cell_type": "markdown",
      "source": [
        "Print Concatenated Strings"
      ],
      "metadata": {
        "id": "-Ow3cSeTEUTB"
      }
    },
    {
      "cell_type": "code",
      "source": [
        "print('Teknologi Informasi ' + 'Universitas Tidar')"
      ],
      "metadata": {
        "colab": {
          "base_uri": "https://localhost:8080/"
        },
        "id": "dRQQP9sOESQa",
        "outputId": "e0cc832b-301a-4f07-eebd-c2877ae49fb1"
      },
      "execution_count": null,
      "outputs": [
        {
          "output_type": "stream",
          "name": "stdout",
          "text": [
            "Teknologi Informasi Universitas Tidar\n"
          ]
        }
      ]
    },
    {
      "cell_type": "markdown",
      "source": [
        "**Output formatting**"
      ],
      "metadata": {
        "id": "SWQYAHhjEq2D"
      }
    },
    {
      "cell_type": "code",
      "source": [
        "x = 5\n",
        "y = 10\n",
        "\n",
        "print('The value of x is {} and y is {}'.format(x,y))"
      ],
      "metadata": {
        "colab": {
          "base_uri": "https://localhost:8080/"
        },
        "id": "fcH7O4yoEzKK",
        "outputId": "9b85fc4c-d897-49f1-83fa-653536af0ab5"
      },
      "execution_count": null,
      "outputs": [
        {
          "output_type": "stream",
          "name": "stdout",
          "text": [
            "The value of x is 5 and y is 10\n"
          ]
        }
      ]
    },
    {
      "cell_type": "markdown",
      "source": [
        "Basic Input in Python"
      ],
      "metadata": {
        "id": "97ApTjVTE2ca"
      }
    },
    {
      "cell_type": "markdown",
      "source": [
        "Python User Input"
      ],
      "metadata": {
        "id": "IT72i257FChp"
      }
    },
    {
      "cell_type": "code",
      "source": [
        "# using input() to take user input\n",
        "num = input('Enter a number: ')\n",
        "\n",
        "print('You Entered:', num)\n",
        "\n",
        "print('Data type of num:', type(num))"
      ],
      "metadata": {
        "colab": {
          "base_uri": "https://localhost:8080/"
        },
        "id": "FHlA0gTpE5h6",
        "outputId": "03dbb12b-63d8-4e64-c68b-76610fa0d967"
      },
      "execution_count": null,
      "outputs": [
        {
          "output_type": "stream",
          "name": "stdout",
          "text": [
            "Enter a number: 66\n",
            "You Entered: 66\n",
            "Data type of num: <class 'str'>\n"
          ]
        }
      ]
    },
    {
      "cell_type": "markdown",
      "source": [
        "**Reading Files Python**\n",
        "\n",
        "**Download Data**"
      ],
      "metadata": {
        "id": "98TwpPYXFVQw"
      }
    },
    {
      "cell_type": "code",
      "source": [
        "!pip install wget"
      ],
      "metadata": {
        "colab": {
          "base_uri": "https://localhost:8080/"
        },
        "id": "s0JldsMkFRup",
        "outputId": "b82061f0-aa7c-4424-daeb-3009603a2101"
      },
      "execution_count": null,
      "outputs": [
        {
          "output_type": "stream",
          "name": "stdout",
          "text": [
            "Collecting wget\n",
            "  Downloading wget-3.2.zip (10 kB)\n",
            "  Preparing metadata (setup.py) ... \u001b[?25l\u001b[?25hdone\n",
            "Building wheels for collected packages: wget\n",
            "  Building wheel for wget (setup.py) ... \u001b[?25l\u001b[?25hdone\n",
            "  Created wheel for wget: filename=wget-3.2-py3-none-any.whl size=9656 sha256=32270106006315eb97f7a58c268d88fa365076c97b51a19118a6c595b34ac96e\n",
            "  Stored in directory: /root/.cache/pip/wheels/8b/f1/7f/5c94f0a7a505ca1c81cd1d9208ae2064675d97582078e6c769\n",
            "Successfully built wget\n",
            "Installing collected packages: wget\n",
            "Successfully installed wget-3.2\n"
          ]
        }
      ]
    },
    {
      "cell_type": "code",
      "source": [
        "# Download Example file\n",
        "!mkdir -p /resources/data\n",
        "!wget -O /resources/data/Example1.txt https://s3-api.us-geo.objectstorage.softlayer.net/cf-courses-data/CognitiveClass/PY0101EN/labs/example1.txt"
      ],
      "metadata": {
        "colab": {
          "base_uri": "https://localhost:8080/"
        },
        "id": "_anGP75nGnz7",
        "outputId": "baa97994-62f3-4970-cbb0-9af7418d0ada"
      },
      "execution_count": null,
      "outputs": [
        {
          "output_type": "stream",
          "name": "stdout",
          "text": [
            "--2024-09-06 06:52:15--  https://s3-api.us-geo.objectstorage.softlayer.net/cf-courses-data/CognitiveClass/PY0101EN/labs/example1.txt\n",
            "Resolving s3-api.us-geo.objectstorage.softlayer.net (s3-api.us-geo.objectstorage.softlayer.net)... 67.228.254.196\n",
            "Connecting to s3-api.us-geo.objectstorage.softlayer.net (s3-api.us-geo.objectstorage.softlayer.net)|67.228.254.196|:443... connected.\n",
            "HTTP request sent, awaiting response... 200 OK\n",
            "Length: 45 [text/plain]\n",
            "Saving to: ‘/resources/data/Example1.txt’\n",
            "\n",
            "\r          /resource   0%[                    ]       0  --.-KB/s               \r/resources/data/Exa 100%[===================>]      45  --.-KB/s    in 0s      \n",
            "\n",
            "2024-09-06 06:52:15 (6.79 MB/s) - ‘/resources/data/Example1.txt’ saved [45/45]\n",
            "\n"
          ]
        }
      ]
    },
    {
      "cell_type": "code",
      "source": [
        "# Read the Example1.txt\n",
        "\n",
        "example1 = \"/resources/data/Example1.txt\"\n",
        "file1 = open(example1, \"r\")"
      ],
      "metadata": {
        "id": "C05JkvG6HG40"
      },
      "execution_count": null,
      "outputs": []
    },
    {
      "cell_type": "code",
      "source": [
        "# Print the path of file\n",
        "\n",
        "file1.name"
      ],
      "metadata": {
        "colab": {
          "base_uri": "https://localhost:8080/",
          "height": 35
        },
        "id": "Efd8ha_bIRjL",
        "outputId": "0022b471-5a22-45df-89cc-7cd34966f8ea"
      },
      "execution_count": null,
      "outputs": [
        {
          "output_type": "execute_result",
          "data": {
            "text/plain": [
              "'/resources/data/Example1.txt'"
            ],
            "application/vnd.google.colaboratory.intrinsic+json": {
              "type": "string"
            }
          },
          "metadata": {},
          "execution_count": 17
        }
      ]
    },
    {
      "cell_type": "code",
      "source": [
        "# Read the file\n",
        "\n",
        "FileContent = file1.read()\n",
        "FileContent"
      ],
      "metadata": {
        "colab": {
          "base_uri": "https://localhost:8080/",
          "height": 35
        },
        "id": "-BH1aajUKt-8",
        "outputId": "6a1b8662-11bf-4a2d-9cdc-d56767ece2c8"
      },
      "execution_count": null,
      "outputs": [
        {
          "output_type": "execute_result",
          "data": {
            "text/plain": [
              "'This is line 1 \\nThis is line 2\\nThis is line 3'"
            ],
            "application/vnd.google.colaboratory.intrinsic+json": {
              "type": "string"
            }
          },
          "metadata": {},
          "execution_count": 18
        }
      ]
    },
    {
      "cell_type": "code",
      "source": [
        "!mkdir -p /resources/data"
      ],
      "metadata": {
        "id": "xW6IA4_mK0Lr"
      },
      "execution_count": null,
      "outputs": []
    },
    {
      "cell_type": "code",
      "source": [
        "# Write line to file\n",
        "\n",
        "with open('/resources/data/Example2.txt', 'w') as writefile:\n",
        "    writefile.write(\"This is line A\")"
      ],
      "metadata": {
        "id": "Agufge4ILwud"
      },
      "execution_count": null,
      "outputs": []
    },
    {
      "cell_type": "code",
      "source": [
        "# Read file\n",
        "\n",
        "with open('/resources/data/Example2.txt', 'r') as testwritefile:\n",
        "    print(testwritefile.read())"
      ],
      "metadata": {
        "colab": {
          "base_uri": "https://localhost:8080/"
        },
        "id": "F6pEAmr8MF2t",
        "outputId": "e1da6ff0-2e57-4620-b96a-20a766d64260"
      },
      "execution_count": null,
      "outputs": [
        {
          "output_type": "stream",
          "name": "stdout",
          "text": [
            "This is line A\n"
          ]
        }
      ]
    },
    {
      "cell_type": "code",
      "source": [
        "# Write lines to file\n",
        "\n",
        "with open('/resources/data/Example2.txt', 'w') as writefile:\n",
        "    writefile.write(\"This is line A\\n\")\n",
        "    writefile.write(\"This is line B\\n\")"
      ],
      "metadata": {
        "id": "lxzF5UpQRDDm"
      },
      "execution_count": null,
      "outputs": []
    },
    {
      "cell_type": "code",
      "source": [
        "# Check whether write to file\n",
        "\n",
        "with open('/resources/data/Example2.txt', 'r') as testwritefile:\n",
        "    print(testwritefile.read())"
      ],
      "metadata": {
        "colab": {
          "base_uri": "https://localhost:8080/"
        },
        "id": "tU9r4uQeRJP_",
        "outputId": "9bee62bf-5db9-4e8c-8085-6952e71d676d"
      },
      "execution_count": null,
      "outputs": [
        {
          "output_type": "stream",
          "name": "stdout",
          "text": [
            "This is line A\n",
            "This is line B\n",
            "\n"
          ]
        }
      ]
    },
    {
      "cell_type": "markdown",
      "source": [
        "**weekly exercise 1**"
      ],
      "metadata": {
        "id": "H1K-gyi1RfVv"
      }
    },
    {
      "cell_type": "markdown",
      "source": [
        "1. Buatlah sebuah file .txt yang berisi biodata Anda meliputi : nama, program studi, NPM, alamat, hobi, dan email."
      ],
      "metadata": {
        "id": "zAitzKnQaqwS"
      }
    },
    {
      "cell_type": "code",
      "source": [
        "with open(\"Galang.txt\", 'w') as writefile:\n",
        "    writefile.write(\"Nama           : Galang Dwi Santoso\\n\")\n",
        "    writefile.write(\"Program Studi  : Teknologi Informasi\\n\")\n",
        "    writefile.write(\"NPM            : 2440506078\\n\")\n",
        "    writefile.write(\"Alamat         : Jetis, Kedungsari, Bandongan, Magelang\\n\")\n",
        "    writefile.write(\"Hobi           : Main Game\\n\")\n",
        "    writefile.write(\"Email          : galangdwisantosoo17gmail.com\\n\")"
      ],
      "metadata": {
        "id": "CnCSOC-bEzev"
      },
      "execution_count": null,
      "outputs": []
    },
    {
      "cell_type": "code",
      "source": [
        "with open(\"Galang.txt\", 'r') as testwritefile:\n",
        "    print(testwritefile.read())"
      ],
      "metadata": {
        "colab": {
          "base_uri": "https://localhost:8080/"
        },
        "id": "01gboG1qVoPD",
        "outputId": "181f54c0-bee8-43c8-ad5b-e0a147803661"
      },
      "execution_count": null,
      "outputs": [
        {
          "output_type": "stream",
          "name": "stdout",
          "text": [
            "Nama           : Galang Dwi Santoso\n",
            "Program Studi  : Teknologi Informasi\n",
            "NPM            : 2440506078\n",
            "Alamat         : Jetis, Kedungsari, Bandongan, Magelang\n",
            "Hobi           : Main Game\n",
            "Email          : galangdwisantosoo17gmail.com\n",
            "\n"
          ]
        }
      ]
    },
    {
      "cell_type": "markdown",
      "source": [
        "2. Buatlah script untuk menampilkan menampilkan nama, program studi, dan email."
      ],
      "metadata": {
        "id": "452V2cV8ajjC"
      }
    },
    {
      "cell_type": "code",
      "source": [
        "with open('Galang.txt','r') as galang:\n",
        "   FileastList = galang.readlines()\n",
        "\n",
        "print(FileastList[0])\n",
        "print(FileastList[1])\n",
        "print(FileastList[5])"
      ],
      "metadata": {
        "colab": {
          "base_uri": "https://localhost:8080/"
        },
        "id": "T_qSgWYW8Rk9",
        "outputId": "3bf41b94-d19b-47a5-e30f-c2e6c7b3a467"
      },
      "execution_count": null,
      "outputs": [
        {
          "output_type": "stream",
          "name": "stdout",
          "text": [
            "Nama           : Galang Dwi Santoso\n",
            "\n",
            "Program Studi  : Teknologi Informasi\n",
            "\n",
            "Email          : galangdwisantosoo17gmail.com\n",
            "\n"
          ]
        }
      ]
    },
    {
      "cell_type": "markdown",
      "source": [
        "3. Buatlah script untuk mengambil data nama, NPM, program studi dan alamat kemudian menyimpan dalam bentuk file txt yang baru."
      ],
      "metadata": {
        "id": "vaecoDYtazVC"
      }
    },
    {
      "cell_type": "code",
      "source": [
        "with open('Galang2.txt','w') as gal:\n",
        "  gal.write(FileastList[0])\n",
        "  gal.write(FileastList[0])\n",
        "  gal.write(FileastList[0])\n",
        "  gal.write(FileastList[0])"
      ],
      "metadata": {
        "id": "0hC95EXKYl4i"
      },
      "execution_count": null,
      "outputs": []
    },
    {
      "cell_type": "code",
      "source": [
        "with open(\"Galang2.txt\",'r') as gal:\n",
        "  print(FileastList[0])\n",
        "  print(FileastList[2])\n",
        "  print(FileastList[1])\n",
        "  print(FileastList[3])"
      ],
      "metadata": {
        "id": "qPKHHju6b8xF",
        "outputId": "82cc20cc-f997-4df1-b004-e1ed9268d426",
        "colab": {
          "base_uri": "https://localhost:8080/"
        }
      },
      "execution_count": null,
      "outputs": [
        {
          "output_type": "stream",
          "name": "stdout",
          "text": [
            "Nama           : Galang Dwi Santoso\n",
            "\n",
            "NPM            : 2440506078\n",
            "\n",
            "Program Studi  : Teknologi Informasi\n",
            "\n",
            "Alamat         : Jetis, Kedungsari, Bandongan, Magelang\n",
            "\n"
          ]
        }
      ]
    },
    {
      "cell_type": "markdown",
      "source": [
        "Weekly Exercise 2"
      ],
      "metadata": {
        "id": "rPtICv9Tcvg7"
      }
    },
    {
      "cell_type": "code",
      "source": [
        "print (\"Selamat datang di Toko Maju Jaya\")\n",
        "print \"Senin, 4 September 2023       13.05\")\n",
        "print(\" \")\n",
        "\n",
        "print (\"DAFTAR BELANJA:\")\n",
        "item1 = \"Sabun\"\n",
        "item2 = 'Shampo'\n",
        "item3 = 'Mie instant'\n",
        "item4 = Detergen'\n",
        "harga1 = Rp 10000\n",
        "harga2 = 15000\n",
        "harga3 = Rp 5000\n",
        "harga4 = 17500\n",
        "\n",
        "total = hargga1+harga2+hargga3+harga\n",
        "\n",
        "print(item1,          = Rp  + harga1)\n",
        "print(item2, '        = Rp '+ harga2)\n",
        "print(item3,    = Rp + hargaa3)\n",
        "print(item4,       = Rp + harga)\n",
        "\n",
        "print(\" \")\n",
        "print(\"Total = Rp \"+total)\n",
        "\n",
        "with open('Kuitansi.txt', w') writefile:\n",
        "        writefiile.write(\"Selamat Datang di Toko Maju Jaya\\n\")\n",
        "        writefille.write(\" \\n\")\n",
        "        writefiile.write(\"Kuitansi - 4 Septermber 2023\\n\")\n",
        "        writefille.write(\" \\n\")\n",
        "        writefiile.write(item1+\" = Rp \" harga1+\"\\n\"\n",
        "        writefille.write(item2+\" = Rp \" harga2\")\n",
        "        writefiile.write(item3+\" = Rp \" harga3+\\n\")\n",
        "        writefille.write(item4+\" = Rp \" harga4+\"\\n)\n",
        "        writefiile.write(\" \\n\")\n",
        "        writefille.write(\"Total Belanja =\"+total"
      ],
      "metadata": {
        "id": "odjAcq2Yco6T",
        "colab": {
          "base_uri": "https://localhost:8080/",
          "height": 159
        },
        "outputId": "6de17655-8378-4b2f-cc47-a0326bbb00f8"
      },
      "execution_count": null,
      "outputs": [
        {
          "output_type": "error",
          "ename": "SyntaxError",
          "evalue": "unmatched ')' (<ipython-input-1-10555eabd207>, line 2)",
          "traceback": [
            "\u001b[0;36m  File \u001b[0;32m\"<ipython-input-1-10555eabd207>\"\u001b[0;36m, line \u001b[0;32m2\u001b[0m\n\u001b[0;31m    print \"Senin, 4 September 2023       13.05\")\u001b[0m\n\u001b[0m                                               ^\u001b[0m\n\u001b[0;31mSyntaxError\u001b[0m\u001b[0;31m:\u001b[0m unmatched ')'\n"
          ]
        }
      ]
    },
    {
      "cell_type": "code",
      "source": [
        "print(\"Selamat datang di Toko Maju Jaya\")\n",
        "print(\"Senin, 4 September 2023       13.05\")\n",
        "print(\" \")\n",
        "\n",
        "print(\"DAFTAR BELANJA:\")\n",
        "\n",
        "item1 = \"Sabun\"\n",
        "item2 = 'Shampo'\n",
        "item3 = 'Mie instant'\n",
        "item4 = 'Detergen'\n",
        "\n",
        "harga1 = 10000\n",
        "harga2 = 15000\n",
        "harga3 = 5000\n",
        "harga4 = 17500\n",
        "\n",
        "total = harga1 + harga2 + harga3 + harga4\n",
        "\n",
        "print(item1, \" = Rp\", harga1)\n",
        "print(item2, \" = Rp\", harga2)\n",
        "print(item3, \" = Rp\", harga3)\n",
        "print(item4, \" = Rp\", harga4)\n",
        "\n",
        "print(\" \")\n",
        "print(\"Total = Rp\", total)\n",
        "\n",
        "with open('Kuitansi.txt', 'w') as writefile:\n",
        "    writefile.write(\"Selamat Datang di Toko Maju Jaya\\n\")\n",
        "    writefile.write(\"\\n\")\n",
        "    writefile.write(\"Kuitansi - 4 September 2023\\n\")\n",
        "    writefile.write(\"\\n\")\n",
        "    writefile.write(item1 + \" = Rp \" + str(harga1) + \"\\n\")\n",
        "    writefile.write(item2 + \" = Rp \" + str(harga2) + \"\\n\")\n",
        "    writefile.write(item3 + \" = Rp \" + str(harga3) + \"\\n\")\n",
        "    writefile.write(item4 + \" = Rp \" + str(harga4) + \"\\n\")\n",
        "    writefile.write(\"\\n\")\n",
        "    writefile.write(\"Total Belanja = \" + str(total) + \"\\n\")"
      ],
      "metadata": {
        "id": "yeDFbxt2_obP",
        "outputId": "c933d161-05b8-4f5e-99af-55f52d04fb68",
        "colab": {
          "base_uri": "https://localhost:8080/"
        }
      },
      "execution_count": null,
      "outputs": [
        {
          "output_type": "stream",
          "name": "stdout",
          "text": [
            "Selamat datang di Toko Maju Jaya\n",
            "Senin, 4 September 2023       13.05\n",
            " \n",
            "DAFTAR BELANJA:\n",
            "Sabun  = Rp 10000\n",
            "Shampo  = Rp 15000\n",
            "Mie instant  = Rp 5000\n",
            "Detergen  = Rp 17500\n",
            " \n",
            "Total = Rp 47500\n"
          ]
        }
      ]
    }
  ]
}